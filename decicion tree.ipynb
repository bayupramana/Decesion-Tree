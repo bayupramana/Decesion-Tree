{
 "cells": [
  {
   "cell_type": "code",
   "execution_count": 35,
   "metadata": {},
   "outputs": [],
   "source": [
    "import numpy as np\n",
    "import pandas as pd\n",
    "import random"
   ]
  },
  {
   "cell_type": "code",
   "execution_count": 36,
   "metadata": {},
   "outputs": [],
   "source": [
    "uji = pd.read_csv('dataLatih.csv', delimiter=';')\n",
    "target = pd.read_csv('dataTarget.csv', delimiter=';')"
   ]
  },
  {
   "cell_type": "code",
   "execution_count": 50,
   "metadata": {},
   "outputs": [],
   "source": [
    "def decode(crom):\n",
    "    num = crom.shape[0] // 15\n",
    "    aturan = []\n",
    "    for i in range(num):\n",
    "        aturan.append(crom[i*15:(i+1)*15])\n",
    "        \n",
    "    suhu = ['Rendah', 'Normal', 'Tinggi']\n",
    "    waktu = ['Pagi', 'Siang', 'Sore', 'Malam']\n",
    "    langit = ['Cerah', 'Berawan', 'Rintik', 'Hujan']\n",
    "    kelembaban = ['Rendah', 'Normal', 'Tinggi']\n",
    "    terbang = ['Tidak', 'Ya']\n",
    "    rules = []\n",
    "    for at in aturan:\n",
    "        if np.all(at[:-1] == 1):\n",
    "            continue\n",
    "        suhu_at = at[:3]\n",
    "        waktu_at = at[3:7]\n",
    "        langit_at = at[7:11]\n",
    "        kelembaban_at = at[11:14]\n",
    "        terbang_at = at[14]\n",
    "        \n",
    "        rule = {\n",
    "            'Suhu': [],\n",
    "            'Waktu': [],\n",
    "            'Langit': [],\n",
    "            'Kelembaban': [],\n",
    "            'Terbang': []\n",
    "        }\n",
    "        \n",
    "        for i, v in enumerate(suhu_at):\n",
    "            if v == 1:\n",
    "                rule['Suhu'].append(suhu[i])\n",
    "        for i, v in enumerate(waktu_at):\n",
    "            if v == 1:\n",
    "                rule['Waktu'].append(waktu[i])\n",
    "        for i, v in enumerate(langit_at):\n",
    "            if v == 1:\n",
    "                rule['Langit'].append(langit[i])\n",
    "        for i, v in enumerate(kelembaban_at):\n",
    "            if v == 1:\n",
    "                rule['Kelembaban'].append(kelembaban[i])\n",
    "        rule['Terbang'] = terbang[terbang_at]\n",
    "        rules.append(rule)\n",
    "    return rules"
   ]
  },
  {
   "cell_type": "code",
   "execution_count": 51,
   "metadata": {},
   "outputs": [],
   "source": [
    "def fitness(crom):\n",
    "    rules = decode(crom)\n",
    "    jumlah = 0\n",
    "    for data in uji.iterrows():\n",
    "        for rule in rules:\n",
    "            if(data[1]['Suhu'] in rule['Suhu']) and \\\n",
    "            (data[1]['Waktu'] in rule['Waktu']) and \\\n",
    "            (data[1]['Langit'] in rule['Langit']) and \\\n",
    "            (data[1]['Kelembaban'] in rule['Kelembaban']):\n",
    "                jumlah += 1\n",
    "                break\n",
    "    return jumlah/uji.shape[0]"
   ]
  },
  {
   "cell_type": "code",
   "execution_count": 52,
   "metadata": {},
   "outputs": [],
   "source": [
    "def parentSelection(populasi, crom):\n",
    "    kandidat = []\n",
    "    for i in range(crom):\n",
    "        kandidat.append(random.randint(0, len(populasi)-1))\n",
    "    best = kandidat[0]\n",
    "    for ind in kandidat:\n",
    "        fit = fitness(populasi[ind])\n",
    "        if fit > fitness(populasi[best]):\n",
    "            best = ind\n",
    "    return populasi[best]"
   ]
  },
  {
   "cell_type": "code",
   "execution_count": 53,
   "metadata": {},
   "outputs": [],
   "source": [
    "def Crossover(kromosom1, kromosom2, pc=0.7):\n",
    "    if np.random.rand() > pc:\n",
    "        return kromosom1, kromosom2\n",
    "    choices = []\n",
    "    while len(choices) == 0:\n",
    "        tp1 = np.random.randint(1, kromosom1.shape[0]-1, size=2)\n",
    "        if(tp1[1] < tp1[0]):\n",
    "            tp1[0], tp1[1] = tp1[1], tp1[0]\n",
    "        t1 = tp1[0] % 15\n",
    "        t2 = tp1[1] % 15\n",
    "\n",
    "        jumlah_aturan = kromosom2.shape[0] // 15\n",
    "\n",
    "        for i in range(jumlah_aturan):\n",
    "            for j in range(i, jumlah_aturan):\n",
    "                x = i*15+t1\n",
    "                y = j*15+t2\n",
    "                if x > y:\n",
    "                    continue\n",
    "                choices.append([x, y])\n",
    "\n",
    "    tp2 = choices[np.random.randint(0, len(choices))]\n",
    "\n",
    "    anak1 = [*kromosom1[:tp1[0]], *kromosom2[tp2[0]:tp2[1]], *kromosom1[tp1[1]:]]\n",
    "    anak2 = [*kromosom2[:tp2[0]], *kromosom1[tp1[0]:tp1[1]], *kromosom2[tp2[1]:]]\n",
    "    return np.array(anak1), np.array(anak2)"
   ]
  },
  {
   "cell_type": "code",
   "execution_count": 54,
   "metadata": {},
   "outputs": [],
   "source": [
    "def mutasi(ind, pmut):\n",
    "    if random.random() < pmut:\n",
    "        titik = random.randint(0, len(ind) - 1)\n",
    "        ind[titik] = 1 if ind[titik] == 0 else 0\n",
    "    return ind"
   ]
  },
  {
   "cell_type": "code",
   "execution_count": 55,
   "metadata": {},
   "outputs": [],
   "source": [
    "def cariTerbaik(populasi):\n",
    "    best = 0\n",
    "    for i in range(len(populasi)):\n",
    "        if fitness(populasi[i]) > fitness(populasi[best]):\n",
    "            best = i\n",
    "    return best"
   ]
  },
  {
   "cell_type": "code",
   "execution_count": 56,
   "metadata": {},
   "outputs": [],
   "source": [
    "populasi = []\n",
    "for i in range(100):\n",
    "    populasi.append(np.random.randint(0, 2, size=(120)))"
   ]
  },
  {
   "cell_type": "code",
   "execution_count": 61,
   "metadata": {
    "scrolled": false
   },
   "outputs": [
    {
     "name": "stdout",
     "output_type": "stream",
     "text": [
      "Fitness terbaik : 1.0\n",
      "Fitness terbaik : 1.0\n",
      "Fitness terbaik : 1.0\n",
      "Fitness terbaik : 1.0\n",
      "Fitness terbaik : 1.0\n",
      "Fitness terbaik : 1.0\n"
     ]
    }
   ],
   "source": [
    "populasi_baru = []\n",
    "bests = []\n",
    "for gen in range(300):\n",
    "    parent1 = parentSelection(populasi, 3)\n",
    "    parent2 = parentSelection(populasi, 3)\n",
    "    parent1 = parent1.copy()\n",
    "    parent2 = parent2.copy()\n",
    "    \n",
    "    anak1, anak2 = Crossover(parent1, parent2)\n",
    "    \n",
    "    anak1 = mutasi(anak1, 0.00167)\n",
    "    anak2 = mutasi(anak2, 0.00167)\n",
    "    \n",
    "    populasi_baru.append(anak1)\n",
    "    populasi_baru.append(anak2)\n",
    "    if len(populasi_baru) == len(populasi):\n",
    "        populasi = populasi_baru\n",
    "        populasi_baru = []\n",
    "        terbaik = cariTerbaik(populasi)\n",
    "        print('Fitness terbaik :',fitness(populasi[terbaik]))"
   ]
  },
  {
   "cell_type": "code",
   "execution_count": 58,
   "metadata": {},
   "outputs": [
    {
     "name": "stdout",
     "output_type": "stream",
     "text": [
      "Fitness terbaik : 1.0\n",
      "Kromosom terbaik:  [1 1 0 0 1 1 0 1 0 1 1 1 1 1 0 1 1 1 0 0 1 0 1 1 0 1 1 1 1 1 1 0 1 0 1 1 0\n",
      " 1 1 0 1 0 1 1 0 0 1 1 1 1 0 0 1 1 1 1 1 0 0 1 0 1 1 1 1 1 1 0 1 1 1 1 0 0\n",
      " 1 1 1 0 1 1 1 0 0 1 0 1 1 1 1 1 0 1 1 0 1 0 1 1 1 0 1 0 0 0 0 1 0 1 1 1 1\n",
      " 1 1 0 0 1 0 1 1 1 0 0 1 0 0 1 1 0 0 1 0 1 0 1 0 0 0 1 1 1 0 1 1 0 0 1 1 0\n",
      " 0 1 0 0 0 1 1 0 1 1 1 0 1 0 1 1 0 1 1 1 1 0 0 0 1 1 0 1 1 1 0 1 1 1 1 0 0\n",
      " 1 1 1 1 0 1 1 1 1 1 1 1 1 0 0 0 0 1 0 0 0 0 1 1 1 0 1 0 1 1 1 0 1 0 0 1 0\n",
      " 0 1 0 1 1 1 1 0 1 1 0 1 1 0 1 1 1 1]\n"
     ]
    }
   ],
   "source": [
    "print('Fitness terbaik :', fitness(populasi[terbaik]))\n",
    "print('Kromosom terbaik: ',populasi[terbaik])"
   ]
  },
  {
   "cell_type": "code",
   "execution_count": 59,
   "metadata": {},
   "outputs": [
    {
     "name": "stdout",
     "output_type": "stream",
     "text": [
      "Aturan: \n",
      "{'Suhu': ['Rendah', 'Normal'], 'Waktu': ['Siang', 'Sore'], 'Langit': ['Cerah', 'Rintik', 'Hujan'], 'Kelembaban': ['Rendah', 'Normal', 'Tinggi'], 'Terbang': 'Tidak'} \n",
      "\n",
      "{'Suhu': ['Rendah', 'Normal', 'Tinggi'], 'Waktu': ['Sore'], 'Langit': ['Cerah', 'Berawan', 'Hujan'], 'Kelembaban': ['Rendah', 'Normal', 'Tinggi'], 'Terbang': 'Ya'} \n",
      "\n",
      "{'Suhu': ['Rendah', 'Tinggi'], 'Waktu': ['Siang', 'Sore'], 'Langit': ['Cerah', 'Berawan', 'Hujan'], 'Kelembaban': ['Normal', 'Tinggi'], 'Terbang': 'Tidak'} \n",
      "\n",
      "{'Suhu': ['Normal', 'Tinggi'], 'Waktu': ['Pagi', 'Siang'], 'Langit': ['Cerah', 'Berawan', 'Rintik', 'Hujan'], 'Kelembaban': ['Rendah'], 'Terbang': 'Ya'} \n",
      "\n",
      "{'Suhu': ['Normal', 'Tinggi'], 'Waktu': ['Pagi', 'Siang', 'Sore', 'Malam'], 'Langit': ['Berawan', 'Rintik', 'Hujan'], 'Kelembaban': ['Rendah'], 'Terbang': 'Ya'} \n",
      "\n",
      "{'Suhu': ['Rendah', 'Normal'], 'Waktu': ['Pagi', 'Siang', 'Sore'], 'Langit': ['Berawan', 'Hujan'], 'Kelembaban': ['Rendah', 'Normal', 'Tinggi'], 'Terbang': 'Ya'} \n",
      "\n",
      "{'Suhu': ['Normal', 'Tinggi'], 'Waktu': ['Siang', 'Malam'], 'Langit': ['Cerah', 'Berawan', 'Hujan'], 'Kelembaban': [], 'Terbang': 'Tidak'} \n",
      "\n",
      "{'Suhu': ['Rendah', 'Tinggi'], 'Waktu': ['Pagi', 'Siang', 'Sore', 'Malam'], 'Langit': ['Cerah', 'Hujan'], 'Kelembaban': ['Normal', 'Tinggi'], 'Terbang': 'Ya'} \n",
      "\n",
      "{'Suhu': ['Tinggi'], 'Waktu': ['Sore', 'Malam'], 'Langit': ['Rintik'], 'Kelembaban': ['Rendah', 'Tinggi'], 'Terbang': 'Tidak'} \n",
      "\n",
      "{'Suhu': ['Tinggi'], 'Waktu': ['Pagi', 'Siang', 'Malam'], 'Langit': ['Cerah', 'Hujan'], 'Kelembaban': ['Rendah'], 'Terbang': 'Ya'} \n",
      "\n",
      "{'Suhu': [], 'Waktu': ['Pagi', 'Siang', 'Malam'], 'Langit': ['Cerah', 'Berawan', 'Hujan'], 'Kelembaban': ['Normal', 'Tinggi'], 'Terbang': 'Tidak'} \n",
      "\n",
      "{'Suhu': ['Rendah', 'Normal', 'Tinggi'], 'Waktu': ['Pagi'], 'Langit': ['Cerah', 'Berawan', 'Hujan'], 'Kelembaban': ['Rendah', 'Normal'], 'Terbang': 'Ya'} \n",
      "\n",
      "{'Suhu': ['Rendah', 'Normal', 'Tinggi'], 'Waktu': ['Sore', 'Malam'], 'Langit': ['Cerah', 'Berawan', 'Hujan'], 'Kelembaban': ['Rendah', 'Normal', 'Tinggi'], 'Terbang': 'Ya'} \n",
      "\n",
      "{'Suhu': ['Rendah', 'Normal', 'Tinggi'], 'Waktu': [], 'Langit': ['Cerah'], 'Kelembaban': ['Normal', 'Tinggi'], 'Terbang': 'Ya'} \n",
      "\n",
      "{'Suhu': ['Normal'], 'Waktu': ['Pagi', 'Siang', 'Sore'], 'Langit': ['Cerah', 'Hujan'], 'Kelembaban': ['Tinggi'], 'Terbang': 'Tidak'} \n",
      "\n",
      "{'Suhu': ['Rendah', 'Normal', 'Tinggi'], 'Waktu': ['Pagi', 'Sore', 'Malam'], 'Langit': ['Berawan', 'Rintik'], 'Kelembaban': ['Rendah', 'Normal', 'Tinggi'], 'Terbang': 'Ya'} \n",
      "\n"
     ]
    }
   ],
   "source": [
    "rules = decode(populasi[terbaik])\n",
    "print('Aturan: ')\n",
    "for rule in rules:\n",
    "    print(rule, '\\n')"
   ]
  },
  {
   "cell_type": "code",
   "execution_count": 60,
   "metadata": {},
   "outputs": [
    {
     "name": "stdout",
     "output_type": "stream",
     "text": [
      "[1, 0, 1, 0, 1, 0, 1, 0, 0, 1, 1, 0, 1, 1, 0, 1, 1, 0, 1, 1]\n"
     ]
    }
   ],
   "source": [
    "label = []\n",
    "for data in target.iterrows():\n",
    "    found = False\n",
    "    for rule in rules:\n",
    "        if(data[1]['Suhu'] in rule['Suhu']) and \\\n",
    "        (data[1]['Waktu'] in rule['Waktu']) and \\\n",
    "        (data[1]['Langit'] in rule['Langit']) and \\\n",
    "        (data[1]['Kelembaban'] in rule['Kelembaban']):\n",
    "            found = True\n",
    "            label.append(1 if rule['Terbang'] == 'Ya' else 0)\n",
    "            break\n",
    "    if found == False:\n",
    "        label.append(0)\n",
    "\n",
    "print(label)"
   ]
  },
  {
   "cell_type": "code",
   "execution_count": 89,
   "metadata": {},
   "outputs": [],
   "source": [
    "np.savetxt('data prediksi.txt', np.array(label), fmt=\"%i\")"
   ]
  },
  {
   "cell_type": "code",
   "execution_count": null,
   "metadata": {},
   "outputs": [],
   "source": []
  }
 ],
 "metadata": {
  "kernelspec": {
   "display_name": "Python 3",
   "language": "python",
   "name": "python3"
  },
  "language_info": {
   "codemirror_mode": {
    "name": "ipython",
    "version": 3
   },
   "file_extension": ".py",
   "mimetype": "text/x-python",
   "name": "python",
   "nbconvert_exporter": "python",
   "pygments_lexer": "ipython3",
   "version": "3.7.3"
  }
 },
 "nbformat": 4,
 "nbformat_minor": 2
}
